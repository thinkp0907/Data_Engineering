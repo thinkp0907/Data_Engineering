{
 "cells": [
  {
   "cell_type": "code",
   "execution_count": 2,
   "metadata": {},
   "outputs": [
    {
     "name": "stdout",
     "output_type": "stream",
     "text": [
      "Requirement already satisfied: requests in c:\\users\\think\\anaconda3\\lib\\site-packages (2.24.0)\n",
      "Requirement already satisfied: urllib3!=1.25.0,!=1.25.1,<1.26,>=1.21.1 in c:\\users\\think\\anaconda3\\lib\\site-packages (from requests) (1.22)\n",
      "Requirement already satisfied: certifi>=2017.4.17 in c:\\users\\think\\anaconda3\\lib\\site-packages (from requests) (2020.6.20)\n",
      "Requirement already satisfied: idna<3,>=2.5 in c:\\users\\think\\anaconda3\\lib\\site-packages (from requests) (2.6)\n",
      "Requirement already satisfied: chardet<4,>=3.0.2 in c:\\users\\think\\anaconda3\\lib\\site-packages (from requests) (3.0.4)\n"
     ]
    },
    {
     "name": "stderr",
     "output_type": "stream",
     "text": [
      "WARNING: You are using pip version 20.2.4; however, version 21.0.1 is available.\n",
      "You should consider upgrading via the 'c:\\users\\think\\anaconda3\\python.exe -m pip install --upgrade pip' command.\n"
     ]
    }
   ],
   "source": [
    "!pip install requests"
   ]
  },
  {
   "cell_type": "code",
   "execution_count": 5,
   "metadata": {},
   "outputs": [],
   "source": [
    "# parser.py\n",
    "import requests\n",
    "\n",
    "## HTTP GET Request\n",
    "req = requests.get('https://beomi.github.io/beomi.github.io_old/')\n",
    "\n",
    "## HTML 소스 가져오기\n",
    "html = req.text\n",
    "\n",
    "## HTTP Header 가져오기\n",
    "header = req.headers\n",
    "\n",
    "## HTTP Status 가져오기 (200: 정상)\n",
    "status = req.status_code\n",
    "\n",
    "## HTTP가 정상적으로 되었는지 (True/False)\n",
    "is_ok = req.ok\n",
    "\n"
   ]
  },
  {
   "cell_type": "code",
   "execution_count": 6,
   "metadata": {},
   "outputs": [
    {
     "name": "stdout",
     "output_type": "stream",
     "text": [
      "Collecting bs4\n",
      "  Downloading bs4-0.0.1.tar.gz (1.1 kB)\n",
      "Requirement already satisfied: beautifulsoup4 in c:\\users\\think\\anaconda3\\lib\\site-packages (from bs4) (4.6.0)\n",
      "Building wheels for collected packages: bs4\n",
      "  Building wheel for bs4 (setup.py): started\n",
      "  Building wheel for bs4 (setup.py): finished with status 'done'\n",
      "  Created wheel for bs4: filename=bs4-0.0.1-py3-none-any.whl size=1283 sha256=999ec17a2d2ed8c74f5d2553cae2a408ad9a1d088147ca455adcfa8a6d5c171b\n",
      "  Stored in directory: c:\\users\\think\\appdata\\local\\pip\\cache\\wheels\\19\\f5\\6d\\a97dd4f22376d4472d5f4c76c7646876052ff3166b3cf71050\n",
      "Successfully built bs4\n",
      "Installing collected packages: bs4\n",
      "Successfully installed bs4-0.0.1\n"
     ]
    },
    {
     "name": "stderr",
     "output_type": "stream",
     "text": [
      "WARNING: You are using pip version 20.2.4; however, version 21.0.1 is available.\n",
      "You should consider upgrading via the 'c:\\users\\think\\anaconda3\\python.exe -m pip install --upgrade pip' command.\n"
     ]
    }
   ],
   "source": [
    "## BeautifulSoup\n",
    "!pip install bs4"
   ]
  },
  {
   "cell_type": "code",
   "execution_count": 7,
   "metadata": {},
   "outputs": [],
   "source": [
    "## parser.py\n",
    "\n",
    "import requests\n",
    "from bs4 import BeautifulSoup\n",
    "\n",
    "## HTTP GET Request\n",
    "req = requests.get('https://beomi.github.io/beomi.github.io_old/')\n",
    "\n",
    "## HTML 소스 가져오기\n",
    "html = req.text\n",
    "\n",
    "## BeautifulSoup으로 html소스를 python 객체로 변환하기\n",
    "## 첫 인자는 html 소스코드, 두 번째 인자는 어떤 parser를 이용할지 명시.\n",
    "## 이 글에서는 Python 내장 html.parser를 이용\n",
    "soup = BeautifulSoup(html, \"html.parser\")\n",
    "\n",
    "\n"
   ]
  },
  {
   "cell_type": "code",
   "execution_count": 9,
   "metadata": {},
   "outputs": [],
   "source": [
    "## parser.py\n",
    "import requests\n",
    "from bs4 import BeautifulSoup\n",
    "\n",
    "req = requests.get('https://beomi.github.io/beomi.github.io_old/')\n",
    "html = req.text\n",
    "soup = BeautifulSoup(html, 'html.parser')\n",
    "\n",
    "## CSS Selector를 통해 html 요소들을 찾아낸다.\n",
    "my_titles = soup.select(\n",
    "    'h3 > a'\n",
    ")"
   ]
  },
  {
   "cell_type": "code",
   "execution_count": 10,
   "metadata": {},
   "outputs": [
    {
     "name": "stdout",
     "output_type": "stream",
     "text": [
      "나만의 웹 크롤러 만들기(4): Django로 크롤링한 데이터 저장하기\n",
      "/beomi.github.io_old/python/2017/02/28/HowToMakeWebCrawler-Save-with-Django.html\n",
      "나만의 웹 크롤러 만들기(3): Selenium으로 무적 크롤러 만들기\n",
      "/beomi.github.io_old/python/2017/02/27/HowToMakeWebCrawler-With-Selenium.html\n",
      "Django에 Social Login 붙이기: Django세팅부터 Facebook/Google 개발 설정까지\n",
      "/beomi.github.io_old/python/2017/02/08/Setup-SocialAuth-for-Django.html\n",
      "Django에 Custom인증 붙이기\n",
      "/beomi.github.io_old/python/2017/02/01/Django-CustomAuth.html\n",
      "나만의 웹 크롤러 만들기(2): Login with Session\n",
      "/beomi.github.io_old/python/2017/01/20/HowToMakeWebCrawler-With-Login.html\n",
      "나만의 웹 크롤러 만들기 with Requests/BeautifulSoup\n",
      "/beomi.github.io_old/python/2017/01/19/HowToMakeWebCrawler.html\n",
      "Celery로 TelegramBot 알림 보내기\n",
      "/beomi.github.io_old/2016/12/27/TelegramBot-with-Celery.html\n",
      "Virtualenv/VirtualenvWrapper OS별 설치&이용법\n",
      "/beomi.github.io_old/2016/12/27/HowToSetup-Virtualenv-VirtualenvWrapper.html\n",
      "[DjangoTDDStudy] #02: UnitTest 이용해 기능 테스트 하기\n",
      "/beomi.github.io_old/djangotddstudy/2016/12/26/Django-TDD-Study-02-Using-UnitTest.html\n",
      "[DjangoTDDStudy] #01: 개발환경 세팅하기(Selenium / ChromeDriver)\n",
      "/beomi.github.io_old/djangotddstudy/2016/12/26/Django-TDD-Study-01-Setting-DevEnviron.html\n",
      "[DjangoTDDStudy] #00: 스터디를 시작하며\n",
      "/beomi.github.io_old/djangotddstudy/2016/12/26/Django-TDD-Study-00-Starting-Study.html\n",
      "Fabric Put 커맨드가 No Such File Exception을 반환할 때 해결법\n",
      "/beomi.github.io_old/2016/12/21/Fabric-Put-Command-No-Such-File-Exception.html\n",
      "CKEditor의 라이센스와 오픈소스 라이센스\n",
      "/beomi.github.io_old/2016/12/21/CKEditor-Lisence-and-Pricing.html\n",
      "ReactNative The Basis 번역을 끝냈습니다.\n",
      "/beomi.github.io_old/translation/2016/12/20/ReactNative-Translation-Intro-Finish.html\n",
      "[React Native 번역]#01: 시작하기\n",
      "/beomi.github.io_old/translation/2016/11/15/ReactNative-Translation-01-getting-started.html\n",
      "[번역] 장고(Django)와 함께하는 Celery 첫걸음\n",
      "/beomi.github.io_old/django-celery/programming/python/translation/2016/11/04/eb-b2-88-ec-97-ad-ec-9e-a5-ea-b3-a0django-ec-99-80-ed-95-a8-ea-bb-98-ed-95-98-eb-8a-94-celery-ec-b2-ab-ea-b1-b8-ec-9d-8c.html\n",
      "Chrome Native Adblockr 대체하기\n",
      "/beomi.github.io_old/tech/2016/09/14/chrome-native-adblockr-eb-8c-80-ec-b2-b4-ed-95-98-ea-b8-b0.html\n",
      "CustoMac 설치 분투기\n",
      "/beomi.github.io_old/dev%20env%20setup/mac%20/%20os%20x/tech/2016/08/09/customac-ec-84-a4-ec-b9-98-eb-b6-84-ed-88-ac-ea-b8-b0.html\n",
      "Ubuntu14.04에 OhMyZsh 설치\n",
      "/beomi.github.io_old/dev%20env%20setup/tech/ubuntu%20/%20debian/2016/07/22/ubuntu14-04-ec-97-90-ohmyzsh-ec-84-a4-ec-b9-98.html\n",
      "Ubuntu14.04에서 pip로 mysqlclient 설치 실패시\n",
      "/beomi.github.io_old/programming/python/tech/2016/07/22/ubuntu14-04-ec-97-90-ec-84-9c-pip-eb-a1-9c-mysqlclient-ec-84-a4-ec-b9-98-ec-8b-a4-ed-8c-a8-ec-8b-9c.html\n",
      "Ubuntu14.04에서 Python3기반 virtualenvwrapper 설치\n",
      "/beomi.github.io_old/mac%20/%20os%20x/programming/python/tech/2016/07/22/ubuntu14-04-ec-97-90-ec-84-9c-python3-ea-b8-b0-eb-b0-98-virtualenvwrapper-ec-84-a4-ec-b9-98.html\n",
      "mac OS X에서 pip virtualenvwrapper 설치 시 uninstalling six 에서 Exception 발생 시\n",
      "/beomi.github.io_old/mac%20/%20os%20x/programming/python/tech/2016/07/21/mac-os-x-ec-97-90-ec-84-9c-pip-virtualenvwrapper-ec-84-a4-ec-b9-98-ec-8b-9c-uninstalling-six-ec-97-90-ec-84-9c-exception-eb-b0-9c-ec-83-9d-ec-8b-9c.html\n",
      "Fabric for Python3 (Fabric3)\n",
      "/beomi.github.io_old/programming/python/2016/07/17/fabric-for-python3-fabric3.html\n",
      "Windows에서 pip로 mysqlclient 설치 실패시(python3.4/3.5)\n",
      "/beomi.github.io_old/programming/python/2016/06/04/windows-ec-97-90-ec-84-9c-pip-eb-a1-9c-mysqlclient-ec-84-a4-ec-b9-98-ec-8b-a4-ed-8c-a8-ec-8b-9cpython3-43-5.html\n",
      "맥에서 윈도RDP로 접속시 한영전환하기.\n",
      "/beomi.github.io_old/mac%20/%20os%20x/tech/2016/05/27/eb-a7-a5-ec-97-90-ec-84-9c-ec-9c-88-eb-8f-84rdp-eb-a1-9c-ec-a0-91-ec-86-8d-ec-8b-9c-ed-95-9c-ec-98-81-ec-a0-84-ed-99-98-ed-95-98-ea-b8-b0.html\n",
      "pip로 mysqlclient설치 중 mac os x에서 egg_info / OSError 발생시 대처방법\n",
      "/beomi.github.io_old/programming/python/2016/05/27/pip-eb-a1-9c-mysqlclient-ec-84-a4-ec-b9-98-ec-a4-91-mac-os-x-ec-97-90-ec-84-9c-egg_info-oserror-eb-b0-9c-ec-83-9d-ec-8b-9c-eb-8c-80-ec-b2-98-eb-b0-a9-eb-b2-95.html\n"
     ]
    }
   ],
   "source": [
    "## parser.py\n",
    "import requests\n",
    "from bs4 import BeautifulSoup\n",
    "\n",
    "req = requests.get('https://beomi.github.io/beomi.github.io_old/')\n",
    "html = req.text\n",
    "soup = BeautifulSoup(html, 'html.parser')\n",
    "\n",
    "## CSS Selector를 통해 html 요소들을 찾아낸다.\n",
    "my_titles = soup.select(\n",
    "    'h3 > a'\n",
    ")\n",
    "\n",
    "for title in my_titles:\n",
    "    ## Tag안에 텍스트\n",
    "    print(title.text)\n",
    "    ## Tag의 속성을 가져오기(ex: href속성)\n",
    "    print(title.get('href'))"
   ]
  },
  {
   "cell_type": "code",
   "execution_count": 16,
   "metadata": {},
   "outputs": [],
   "source": [
    "## parser.py\n",
    "import requests\n",
    "from bs4 import BeautifulSoup\n",
    "import json\n",
    "import os\n",
    "\n",
    "## python파일의 위치\n",
    "BASE_DIR = os.path.dirname(os.path.abspath('C:/Users/Think/data_engineer/crawling/base_dir'))\n",
    "\n",
    "req = requests.get('https://beomi.github.io/beomi.github.io_old/')\n",
    "html = req.text\n",
    "soup = BeautifulSoup(html, 'html.parser')\n",
    "\n",
    "## CSS Selector를 통해 html 요소들을 찾아낸다.\n",
    "my_titles = soup.select(\n",
    "    'h3 > a'\n",
    ")\n",
    "\n",
    "data = {}\n",
    "\n",
    "for title in my_titles:\n",
    "    data[title.text] = title.get('href')\n",
    "    \n",
    "with open(os.path.join(BASE_DIR, 'result.json'), 'w+') as json_file:\n",
    "    json.dump(data, json_file)"
   ]
  },
  {
   "cell_type": "code",
   "execution_count": null,
   "metadata": {},
   "outputs": [],
   "source": []
  }
 ],
 "metadata": {
  "kernelspec": {
   "display_name": "Python 3",
   "language": "python",
   "name": "python3"
  },
  "language_info": {
   "codemirror_mode": {
    "name": "ipython",
    "version": 3
   },
   "file_extension": ".py",
   "mimetype": "text/x-python",
   "name": "python",
   "nbconvert_exporter": "python",
   "pygments_lexer": "ipython3",
   "version": "3.6.5"
  }
 },
 "nbformat": 4,
 "nbformat_minor": 2
}
