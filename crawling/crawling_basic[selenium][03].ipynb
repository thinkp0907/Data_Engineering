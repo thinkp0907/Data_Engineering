{
 "cells": [
  {
   "cell_type": "code",
   "execution_count": 1,
   "metadata": {},
   "outputs": [
    {
     "name": "stdout",
     "output_type": "stream",
     "text": [
      "Collecting selenium\n",
      "  Downloading selenium-3.141.0-py2.py3-none-any.whl (904 kB)\n",
      "Requirement already satisfied: urllib3 in c:\\users\\chorlock\\anaconda3\\lib\\site-packages (from selenium) (1.25.11)\n",
      "Installing collected packages: selenium\n",
      "Successfully installed selenium-3.141.0\n"
     ]
    }
   ],
   "source": [
    "# Selenium이란\n",
    "# 주로 웹앱을 테스트하는데 이용하는 프레임워크\n",
    "# webdriver 라는 API를 통해 운영체제에 설치된 Chrome등의 브라우저 제어\n",
    "\n",
    "# install\n",
    "!pip install selenium"
   ]
  },
  {
   "cell_type": "code",
   "execution_count": 2,
   "metadata": {},
   "outputs": [],
   "source": [
    "# C:\\Users\\Chorlock\\Downloads\\chromedriver_win32\n",
    "# 위 경로를 나중에 Selenium 객체를 생성할 때 지정해 주어야 한다.\n",
    "\n"
   ]
  },
  {
   "cell_type": "code",
   "execution_count": 12,
   "metadata": {},
   "outputs": [],
   "source": [
    "from selenium import webdriver\n",
    "\n",
    "## Chrome의 경우 | 아까 받은 chromedriver의 위치를 지정해준다.\n",
    "driver = webdriver.Chrome('C:/Users/Chorlock/Downloads/chromedriver_win32/chromedriver')\n",
    "\n",
    "## 암묵적으로 웹 자원 로드를 위해 3초까지 기다려 준다.\n",
    "driver.implicitly_wait(3)\n",
    "driver.get('https://google.com')"
   ]
  },
  {
   "cell_type": "markdown",
   "metadata": {},
   "source": [
    "### Selenium은 driver 객체를 통해 여러가지 메소드를 제공한다.\n",
    "\n",
    "**URL에 접근하는 api,**\n",
    "- get(\"http://url.com')\n",
    "\n",
    "**페이지의 단일 element에 접근하는 api,**\n",
    "- find_element_by_name('HTML_name')\n",
    "- find_element_by_id('HTML_id')\n",
    "- find_element_by_xpath('/html/body/some/xpath')\n",
    "\n",
    "**페이지의 여러 elements에 접근하는 api**\n",
    "- find_element_by_css_selector(\"#css > div.selector')\n",
    "- find_element_by_class_name('some_class_name')\n",
    "- find_element_by_tag_name('h1')\n",
    "\n",
    "위 메소드들을 활용시 HTML을 브라우저에서 파싱해주기 때문에 굳이 Python과 BS을 사용하지 않아도 된다.\n",
    "\n",
    "하지만 Selenium에 내장된 함수만 사용가능하기 때문에 좀더 사용이 편리한 soup객체를 이용하려면 `driver.page_source` API를 이용해 현재 렌더링 된 페이지의 Elements를 모두 가져올 수 있다."
   ]
  },
  {
   "cell_type": "code",
   "execution_count": null,
   "metadata": {},
   "outputs": [],
   "source": []
  },
  {
   "cell_type": "markdown",
   "metadata": {},
   "source": [
    "## 네이버 로그인 하기"
   ]
  },
  {
   "cell_type": "code",
   "execution_count": 19,
   "metadata": {},
   "outputs": [],
   "source": [
    "from selenium import webdriver\n",
    "\n",
    "driver = webdriver.Chrome('C:/Users/Chorlock/Downloads/chromedriver_win32/chromedriver')\n",
    "driver.implicitly_wait(3)\n",
    "## url에 접근한다.\n",
    "driver.get('https://nid.naver.com/nidlogin.login?mode=form&url=https%3A%2F%2Fwww.naver.com')\n",
    "## 아이디/비밀번호를 입력해준다.\n",
    "driver.find_element_by_name('id').send_keys('taske')\n",
    "driver.find_element_by_name('pw').send_keys('!q2w3e4r5t')\n",
    "driver.implicitly_wait(3)\n",
    "## 로그인 버튼을 눌러주자.\n",
    "# driver.find_element_by_xpath('//*[@id=\"log.login\"]').click()"
   ]
  },
  {
   "cell_type": "code",
   "execution_count": 20,
   "metadata": {},
   "outputs": [
    {
     "name": "stdout",
     "output_type": "stream",
     "text": [
      "Collecting pyperclip\n",
      "  Downloading pyperclip-1.8.2.tar.gz (20 kB)\n",
      "Building wheels for collected packages: pyperclip\n",
      "  Building wheel for pyperclip (setup.py): started\n",
      "  Building wheel for pyperclip (setup.py): finished with status 'done'\n",
      "  Created wheel for pyperclip: filename=pyperclip-1.8.2-py3-none-any.whl size=11112 sha256=427d39794b2990e61d65565f50f5fb4210b09a5aead528b1c09058eae92646cd\n",
      "  Stored in directory: c:\\users\\chorlock\\appdata\\local\\pip\\cache\\wheels\\7f\\1a\\65\\84ff8c386bec21fca6d220ea1f5498a0367883a78dd5ba6122\n",
      "Successfully built pyperclip\n",
      "Installing collected packages: pyperclip\n",
      "Successfully installed pyperclip-1.8.2\n"
     ]
    }
   ],
   "source": [
    "## 네이버 로그인 시스템에 변화로 자동 입력 방지에 걸림\n",
    "## 해결방법\n",
    "!pip install pyperclip"
   ]
  },
  {
   "cell_type": "code",
   "execution_count": 22,
   "metadata": {},
   "outputs": [],
   "source": [
    "# pyperclip 라이브러리를 사용하여 미리 복사 하고 붙여 넣기\n",
    "import pyperclip\n",
    "\n",
    "from selenium.webdriver.common.keys import Keys\n",
    "from selenium import webdriver\n",
    "\n",
    "driver = webdriver.Chrome('C:/Users/Chorlock/Downloads/chromedriver_win32/chromedriver')\n",
    "driver.implicitly_wait(3)\n",
    "## url에 접근한다.\n",
    "driver.get('https://nid.naver.com/nidlogin.login?mode=form&url=https%3A%2F%2Fwww.naver.com')\n",
    "## 아이디/비밀번호를 입력해준다.\n",
    "pyperclip.copy('아이디')\n",
    "driver.find_element_by_name('id').send_keys(Keys.CONTROL, 'v')\n",
    "pyperclip.copy('비밀번호')\n",
    "driver.find_element_by_name('pw').send_keys(Keys.CONTROL, 'v')\n",
    "driver.implicitly_wait(3)\n",
    "## 로그인 버튼을 눌러주자.\n",
    "driver.find_element_by_xpath('//*[@id=\"log.login\"]').click()"
   ]
  },
  {
   "cell_type": "code",
   "execution_count": 23,
   "metadata": {},
   "outputs": [],
   "source": [
    "## 네이버 로그인이 필요한 페이지인 네이버 페이 페이지를 가져오자\n",
    "## 네이버 페이의 Url은 https://order.pay.naver.com/home 이다. "
   ]
  },
  {
   "cell_type": "code",
   "execution_count": 48,
   "metadata": {},
   "outputs": [
    {
     "name": "stdout",
     "output_type": "stream",
     "text": [
      "{'\\n\\t\\t\\t\\t\\t\\t\\t네이버페이 예매 외 1건\\n\\t\\t\\t\\t\\t\\t': 'https://pay.naver.com/payments/detail/20201224NP2278330663', '\\n네이버플러스 멤버십\\n\\t\\t\\t\\t\\t\\t\\t16피스 사무용 컴퓨터 학생 책상 의자 중역 BC체어\\n\\t\\t\\t\\t\\t\\t': '/orderStatus/2020112092834921', '\\n네이버플러스 멤버십\\n\\t\\t\\t\\t\\t\\t\\t체어스코 네이처 올바른 자세교정 책상 컴퓨터의자\\n\\t\\t\\t\\t\\t\\t': '/orderStatus/2020112087228981', '\\n네이버플러스 멤버십\\n\\t\\t\\t\\t\\t\\t\\t블랙앤데커 청소기 필터 VF90 PV1820C PV1820BK\\n\\t\\t\\t\\t\\t\\t': '/orderStatus/2020110631873731', '\\n네이버플러스 멤버십\\n\\t\\t\\t\\t\\t\\t\\t블랙앤데커 호루라기 청소기 18V 무선청소기\\n\\t\\t\\t\\t\\t\\t': '/orderStatus/2020110631873731', '\\n네이버플러스 멤버십\\n\\t\\t\\t\\t\\t\\t\\t소니 MDR-EX650AP 유선 이어폰 소니코리아 정품\\n\\t\\t\\t\\t\\t\\t': '/orderStatus/2020080379136041', '\\n네이버플러스 멤버십\\n\\t\\t\\t\\t\\t\\t\\t씽크웨이 CROAD C604 체리미엄 PBT 측각 한영 키보드\\n\\t\\t\\t\\t\\t\\t': '/orderStatus/2020062740730621', '\\n네이버플러스 멤버십\\n\\t\\t\\t\\t\\t\\t\\t이룸홈 마약매트리스 접이식 바닥 토퍼 3단 수면 매트리스 침대 매트\\n\\t\\t\\t\\t\\t\\t': '/orderStatus/2020062511493571', '\\n포인트플러스\\n\\t\\t\\t\\t\\t\\t\\tNS 포대유청 초코맛 2kg WPC 93% 단백질 헬스 보충제 농축유청 프로틴\\n\\t\\t\\t\\t\\t\\t': '/orderStatus/2020040136968431', '\\n포인트플러스\\n\\t\\t\\t\\t\\t\\t\\tNCS 초임계 루테인 눈에 좋은 눈 건강 영양제 2개월분, 바디닥터스\\n\\t\\t\\t\\t\\t\\t': '/orderStatus/2020032145497341', '\\n\\t\\t\\t\\t\\t\\t\\t버클(900원)\\n\\t\\t\\t\\t\\t\\t': '/orderStatus/2020031047021531', '\\n\\t\\t\\t\\t\\t\\t\\t블랙(1500원)\\n\\t\\t\\t\\t\\t\\t': '/orderStatus/2020031047021531', '\\n\\t\\t\\t\\t\\t\\t\\t캐시워크 연동 스마트밴드 캐시워치 i6 HR 가성비 웨어러블디바이스\\n\\t\\t\\t\\t\\t\\t': '/orderStatus/2020031047021531', '\\n포인트플러스\\n\\t\\t\\t\\t\\t\\t\\t제주 헤리티지 세트_그린티\\n\\t\\t\\t\\t\\t\\t': 'https://pay.naver.com/payments/detail/20200128NP1726045021', '\\n포인트플러스\\n\\t\\t\\t\\t\\t\\t\\t슈퍼 쉴드 옴므쿠션\\n\\t\\t\\t\\t\\t\\t': '/orderStatus/2020012863063400'}\n"
     ]
    }
   ],
   "source": [
    "from selenium import webdriver\n",
    "from selenium.webdriver.common.keys import Keys\n",
    "from bs4 import BeautifulSoup as bs\n",
    "\n",
    "## setup Driver|Chrome : 크롬드라이버를 사용하는 driver 생성\n",
    "driver = webdriver.Chrome('C:/Users/Chorlock/Downloads/chromedriver_win32/chromedriver')\n",
    "# 암묵적으로 웹 자원을 (최대) 3초 기다리기\n",
    "driver.implicitly_wait(3)\n",
    "\n",
    "## Login\n",
    "driver.get('https://nid.naver.com/nidlogin.login?mode=form&url=https%3A%2F%2Fwww.naver.com')\n",
    "# 로그인 자동 입력 방지를 위해 pyperclip 복사 붙여넣기 사용\n",
    "pyperclip.copy('아이디')\n",
    "driver.find_element_by_name('id').send_keys(Keys.CONTROL, 'v')\n",
    "pyperclip.copy('비밀번호')\n",
    "driver.find_element_by_name('pw').send_keys(Keys.CONTROL, 'v')\n",
    "driver.find_element_by_xpath('//*[@id=\"log.login\"]').click() # 버튼 클릭\n",
    "driver.implicitly_wait(3)\n",
    "\n",
    "# Naver 페이 들어가기\n",
    "# 이게 있으면 넘어가고 없으면 안넘어감 why???\n",
    "driver.find_element_by_link_text('다음').click() \n",
    "\n",
    "# 바로 넘어가지지 않음\n",
    "driver.get('https://order.pay.naver.com/home') # 네이버 페이\n",
    "html = driver.page_source ## 페이지 elements 모두 가져오기\n",
    "soup = bs(html, 'html.parser') # BeautifulSoup사용하기\n",
    "notices = soup.select('div.goods_item > div > a')\n",
    "\n",
    "\n",
    "\n",
    "for n in notices:\n",
    "    print(n.text.strip())"
   ]
  },
  {
   "cell_type": "code",
   "execution_count": 49,
   "metadata": {},
   "outputs": [
    {
     "name": "stdout",
     "output_type": "stream",
     "text": [
      "{'네이버페이 예매 외 1건': 'https://pay.naver.com/payments/detail/20201224NP2278330663', '네이버플러스 멤버십\\n\\t\\t\\t\\t\\t\\t\\t16피스 사무용 컴퓨터 학생 책상 의자 중역 BC체어': '/orderStatus/2020112092834921', '네이버플러스 멤버십\\n\\t\\t\\t\\t\\t\\t\\t체어스코 네이처 올바른 자세교정 책상 컴퓨터의자': '/orderStatus/2020112087228981', '네이버플러스 멤버십\\n\\t\\t\\t\\t\\t\\t\\t블랙앤데커 청소기 필터 VF90 PV1820C PV1820BK': '/orderStatus/2020110631873731', '네이버플러스 멤버십\\n\\t\\t\\t\\t\\t\\t\\t블랙앤데커 호루라기 청소기 18V 무선청소기': '/orderStatus/2020110631873731', '네이버플러스 멤버십\\n\\t\\t\\t\\t\\t\\t\\t소니 MDR-EX650AP 유선 이어폰 소니코리아 정품': '/orderStatus/2020080379136041', '네이버플러스 멤버십\\n\\t\\t\\t\\t\\t\\t\\t씽크웨이 CROAD C604 체리미엄 PBT 측각 한영 키보드': '/orderStatus/2020062740730621', '네이버플러스 멤버십\\n\\t\\t\\t\\t\\t\\t\\t이룸홈 마약매트리스 접이식 바닥 토퍼 3단 수면 매트리스 침대 매트': '/orderStatus/2020062511493571', '포인트플러스\\n\\t\\t\\t\\t\\t\\t\\tNS 포대유청 초코맛 2kg WPC 93% 단백질 헬스 보충제 농축유청 프로틴': '/orderStatus/2020040136968431', '포인트플러스\\n\\t\\t\\t\\t\\t\\t\\tNCS 초임계 루테인 눈에 좋은 눈 건강 영양제 2개월분, 바디닥터스': '/orderStatus/2020032145497341', '버클(900원)': '/orderStatus/2020031047021531', '블랙(1500원)': '/orderStatus/2020031047021531', '캐시워크 연동 스마트밴드 캐시워치 i6 HR 가성비 웨어러블디바이스': '/orderStatus/2020031047021531', '포인트플러스\\n\\t\\t\\t\\t\\t\\t\\t제주 헤리티지 세트_그린티': 'https://pay.naver.com/payments/detail/20200128NP1726045021', '포인트플러스\\n\\t\\t\\t\\t\\t\\t\\t슈퍼 쉴드 옴므쿠션': '/orderStatus/2020012863063400'}\n"
     ]
    }
   ],
   "source": [
    "from selenium import webdriver\n",
    "from selenium.webdriver.common.keys import Keys\n",
    "from bs4 import BeautifulSoup as bs\n",
    "    import pyperclip\n",
    "\n",
    "## setup Driver|Chrome : 크롬드라이버를 사용하는 driver 생성\n",
    "driver = webdriver.Chrome('C:/Users/Chorlock/Downloads/chromedriver_win32/chromedriver')\n",
    "# 암묵적으로 웹 자원을 (최대) 3초 기다리기\n",
    "driver.implicitly_wait(3)\n",
    "\n",
    "## Login\n",
    "driver.get('https://nid.naver.com/nidlogin.login?mode=form&url=https%3A%2F%2Fwww.naver.com')\n",
    "# 로그인 자동 입력 방지를 위해 pyperclip 복사 붙여넣기 사용\n",
    "pyperclip.copy('taske')\n",
    "driver.find_element_by_name('id').send_keys(Keys.CONTROL, 'v')\n",
    "pyperclip.copy('!q2w3e4r5t')\n",
    "driver.find_element_by_name('pw').send_keys(Keys.CONTROL, 'v')\n",
    "driver.find_element_by_xpath('//*[@id=\"log.login\"]').click() # 버튼 클릭\n",
    "driver.implicitly_wait(3)\n",
    "\n",
    "# Naver 페이 들어가기\n",
    "# 이게 있으면 넘어가고 없으면 안넘어감 why???\n",
    "driver.find_element_by_link_text('다음').click() \n",
    "\n",
    "# 바로 넘어가지지 않음\n",
    "driver.get('https://order.pay.naver.com/home') # 네이버 페이\n",
    "html = driver.page_source ## 페이지 elements 모두 가져오기\n",
    "soup = bs(html, 'html.parser') # BeautifulSoup사용하기\n",
    "notices = soup.select('div.goods_item > div > a > p')\n",
    "link = soup.select('div.goods_item > div > a')\n",
    "\n",
    "data = {}\n",
    "\n",
    "\n",
    "for n, l in zip(notices, link):\n",
    "    data[n.text.strip()] = l.get('href')\n",
    "    \n",
    "print(data)"
   ]
  },
  {
   "cell_type": "code",
   "execution_count": null,
   "metadata": {},
   "outputs": [],
   "source": []
  }
 ],
 "metadata": {
  "kernelspec": {
   "display_name": "Python 3",
   "language": "python",
   "name": "python3"
  },
  "language_info": {
   "codemirror_mode": {
    "name": "ipython",
    "version": 3
   },
   "file_extension": ".py",
   "mimetype": "text/x-python",
   "name": "python",
   "nbconvert_exporter": "python",
   "pygments_lexer": "ipython3",
   "version": "3.8.5"
  }
 },
 "nbformat": 4,
 "nbformat_minor": 4
}
