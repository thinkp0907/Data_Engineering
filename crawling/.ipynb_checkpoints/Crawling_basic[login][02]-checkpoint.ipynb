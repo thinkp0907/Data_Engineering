{
 "cells": [
  {
   "cell_type": "code",
   "execution_count": 2,
   "metadata": {},
   "outputs": [],
   "source": [
    "## Session을 이용해 로그인하기\n",
    "## Request의 Session\n",
    "import requests\n",
    "\n",
    "# Session 생성\n",
    "s = requests.Session()\n"
   ]
  },
  {
   "cell_type": "code",
   "execution_count": 9,
   "metadata": {},
   "outputs": [],
   "source": [
    "## 이렇게 만들어진 세션은 parser.py 에서 requests 위치를 대신한다\n",
    "\n",
    "# parser.py\n",
    "import requests\n",
    "\n",
    "# Session 생성\n",
    "s = requests.Session()\n",
    "\n",
    "# HTTP GET Request: requests대신 s 객체를 사용\n",
    "req = s.get('https://www.clien.net/service/')\n",
    "\n",
    "# HTML 소스 가져오기\n",
    "html = req.text\n",
    "\n",
    "# HTTP Header 가져오기\n",
    "header = req.headers\n",
    "\n",
    "# HTTP status 가져오기 (200: 정상)\n",
    "status = req.status_code\n",
    "\n",
    "# HTTP가 정상적으로 되었는지 (True/False)\n",
    "is_ok = req.ok"
   ]
  },
  {
   "cell_type": "code",
   "execution_count": 4,
   "metadata": {},
   "outputs": [],
   "source": [
    "## 위 코드와 아래코드는 정확히 동일하게 동작하지만\n",
    "## 위쪽 코드의 경우 Session이 가끔 풀리는 경우가 있어 아래코드로 진행하는것을 추천"
   ]
  },
  {
   "cell_type": "code",
   "execution_count": 5,
   "metadata": {},
   "outputs": [],
   "source": [
    "# parser.py\n",
    "import requests\n",
    "\n",
    "with requests.Session() as s:\n",
    "    # HTTP GET Request: requests 대신 s 객체를 사용한다.\n",
    "    req = s.get('https://www.clien.net/service/')\n",
    "    # HTML 소스 가져오기\n",
    "    html = req.text\n",
    "    # HTTP Header 가져오기\n",
    "    header = req.headers\n",
    "    # HTTP Status 가져오기 (200: 정상)\n",
    "    status = req.status_code\n",
    "    # HTTP가 정상적으로 되었는지 (True/False)\n",
    "    is_ok = req.ok"
   ]
  },
  {
   "cell_type": "code",
   "execution_count": 14,
   "metadata": {},
   "outputs": [
    {
     "name": "stdout",
     "output_type": "stream",
     "text": [
      "200\n"
     ]
    }
   ],
   "source": [
    "# parser.py\n",
    "import requests\n",
    "\n",
    "# 로그인할 유저정보를 넣어주자 (모두 문자열)\n",
    "LOGIN_INFO = {\n",
    "    'userId': 'taske92',\n",
    "    'userPassword': 'ehdrbs92'\n",
    "}\n",
    "\n",
    "# Session 생성, with 구문 안에서 유지\n",
    "with requests.Session() as s:\n",
    "    # HTTP POST Request: 로그인을 위해 POST url와 함께 전송될 data를 넣어주자.\n",
    "    login_req = s.post('https://www.clien.net/service/login', data=LOGIN_INFO)\n",
    "    # 어떤 결과가 나올까요?\n",
    "    print(login_req.status_code)"
   ]
  },
  {
   "cell_type": "code",
   "execution_count": 19,
   "metadata": {},
   "outputs": [
    {
     "ename": "TypeError",
     "evalue": "'NoneType' object is not subscriptable",
     "output_type": "error",
     "traceback": [
      "\u001b[1;31m---------------------------------------------------------------------------\u001b[0m",
      "\u001b[1;31mTypeError\u001b[0m                                 Traceback (most recent call last)",
      "\u001b[1;32m<ipython-input-19-896c3e099ebf>\u001b[0m in \u001b[0;36m<module>\u001b[1;34m()\u001b[0m\n\u001b[0;32m     16\u001b[0m     \u001b[0msoup\u001b[0m \u001b[1;33m=\u001b[0m \u001b[0mBeautifulSoup\u001b[0m\u001b[1;33m(\u001b[0m\u001b[0mhtml\u001b[0m\u001b[1;33m,\u001b[0m \u001b[1;34m'html.parser'\u001b[0m\u001b[1;33m)\u001b[0m\u001b[1;33m\u001b[0m\u001b[0m\n\u001b[0;32m     17\u001b[0m     \u001b[0mcsrf\u001b[0m \u001b[1;33m=\u001b[0m \u001b[0msoup\u001b[0m\u001b[1;33m.\u001b[0m\u001b[0mfind\u001b[0m\u001b[1;33m(\u001b[0m\u001b[1;34m'input'\u001b[0m\u001b[1;33m,\u001b[0m \u001b[1;33m{\u001b[0m\u001b[1;34m'name'\u001b[0m \u001b[1;33m:\u001b[0m \u001b[1;34m'_crsf'\u001b[0m\u001b[1;33m}\u001b[0m\u001b[1;33m)\u001b[0m \u001b[1;31m# input 태그 중에서 name 이 _crsf인 것을 찾습니다.\u001b[0m\u001b[1;33m\u001b[0m\u001b[0m\n\u001b[1;32m---> 18\u001b[1;33m     \u001b[0mprint\u001b[0m\u001b[1;33m(\u001b[0m\u001b[0mcsrf\u001b[0m\u001b[1;33m[\u001b[0m\u001b[1;34m'value'\u001b[0m\u001b[1;33m]\u001b[0m\u001b[1;33m)\u001b[0m \u001b[1;31m# 위에서 찾은 태그의 value를 가져옵니다.\u001b[0m\u001b[1;33m\u001b[0m\u001b[0m\n\u001b[0m",
      "\u001b[1;31mTypeError\u001b[0m: 'NoneType' object is not subscriptable"
     ]
    }
   ],
   "source": [
    "# parser.py\n",
    "import requests\n",
    "from bs4 import BeautifulSoup as bs\n",
    "\n",
    "# 로그인할 유저정보를 넣어주자 (모두 문자열)\n",
    "LOGIN_INFO = {\n",
    "    'userId': 'taske92',\n",
    "    'userPassword': 'ehdrbs92'\n",
    "}\n",
    "\n",
    "# Session 생성, with 구문 안에서 유지\n",
    "with requests.Session() as s:\n",
    "    # 우선 클리앙 홈페이지에 들어가 봅시다.\n",
    "    first_page = s.get('https://www.clien.net/service')\n",
    "    html = first_page.text\n",
    "    soup = bs(html, 'html.parser')\n",
    "    csrf = soup.find('input', {'name' : '_crsf'}) # input 태그 중에서 name 이 _crsf인 것을 찾습니다.\n",
    "    print(csrf['value']) # 위에서 찾은 태그의 value를 가져옵니다."
   ]
  },
  {
   "cell_type": "code",
   "execution_count": null,
   "metadata": {},
   "outputs": [],
   "source": []
  }
 ],
 "metadata": {
  "kernelspec": {
   "display_name": "Python 3",
   "language": "python",
   "name": "python3"
  },
  "language_info": {
   "codemirror_mode": {
    "name": "ipython",
    "version": 3
   },
   "file_extension": ".py",
   "mimetype": "text/x-python",
   "name": "python",
   "nbconvert_exporter": "python",
   "pygments_lexer": "ipython3",
   "version": "3.6.5"
  }
 },
 "nbformat": 4,
 "nbformat_minor": 2
}
