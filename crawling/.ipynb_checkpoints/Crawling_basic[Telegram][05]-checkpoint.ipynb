{
 "cells": [
  {
   "cell_type": "markdown",
   "metadata": {},
   "source": [
    "## 웹페이지 업데이트를 알려주는 Telegram 봇\n",
    "\n",
    "`Django`를 이용해 크롤링한 데이터를 DB에 저장하고 다시 크롤링을 할 때 중복된 데이터를 DB에 저장하는 것은 바람직 하지 않음\n",
    "\n",
    "크롤링을 자동으로 해 사이트에 변경사항이 생길 때 마다 내 Telegram으로 알림을 받아보자\n",
    "\n"
   ]
  },
  {
   "cell_type": "markdown",
   "metadata": {},
   "source": [
    "텔레그램은 REST API를 통해 봇을 제어하도록 한다\n",
    "`python-telegram-bot` 패키지는 Telegram Bot API를 python에서 쉽게 이용하기 위한 wrapper 패키지입니다."
   ]
  },
  {
   "cell_type": "markdown",
   "metadata": {},
   "source": [
    "## python-telegram-bot 설치하기\n",
    "\n",
    "`python-telegram-bot`은 pip로 설치 가능\n",
    "```python\n",
    "pip install python-telegram-bot\n",
    "```"
   ]
  },
  {
   "cell_type": "code",
   "execution_count": null,
   "metadata": {},
   "outputs": [],
   "source": [
    "!pip install python-telegram-bot"
   ]
  },
  {
   "cell_type": "markdown",
   "metadata": {},
   "source": [
    "## 텔레그램 봇 만들기 & API Key 받기\n",
    "\n",
    "클리앙에 새로운 글이 올라오면 \"새 글이 올라왔어요!\"라는 메시지를 보내는 봇을 만들어 보자\n",
    "\n"
   ]
  },
  {
   "cell_type": "code",
   "execution_count": 2,
   "metadata": {},
   "outputs": [],
   "source": [
    "# #div_content > div.list_content > div:nth-child(1) > div.list_title\n",
    "# https://www.clien.net/service/board/sold"
   ]
  },
  {
   "cell_type": "code",
   "execution_count": 3,
   "metadata": {},
   "outputs": [],
   "source": [
    "# clien_market_parser.py\n",
    "\n",
    "import requests\n",
    "from bs4 import BeautifulSoup as bs\n",
    "import os\n",
    "\n",
    "# 파일의 위치\n",
    "BASE_DIR = os.path.dirname(os.path.abspath('./crawling/'))\n",
    "\n",
    "req = requests.get('https://www.clien.net/service/board/sold')\n",
    "req.encoding = 'utf-8' # Clien에서 encoding 정보를 보내주지 않아 encoding 옵션을 추가해줘야 합니다.\n",
    "\n",
    "html = req.text\n",
    "soup = bs(html, 'html.parser')\n",
    "posts = soup.select('#div_content > div.list_content > div:nth-child(1) > div.list_title > a > span.subject_fixed')\n",
    "latest = posts[0].text.strip()\n",
    "\n",
    "\n",
    "with open(os.path.join(BASE_DIR, 'latest.txt'), 'w+', encoding='UTF-8') as f:\n",
    "    f.write(latest)\n",
    "    f.close()"
   ]
  },
  {
   "cell_type": "markdown",
   "metadata": {},
   "source": [
    "위와 같이 코드를 구성하면 `latest.txt` 파일에 가장 최신 글의 제목이 저장됩니다.\n",
    "\n",
    "그롤링 이후 새로운 글이 생겼는지의 유무를 알아보려면 크롤링한 최신글의 제목과 파일에 저장된 제목이 같은지를 확인하면 됩니다.\n",
    "\n",
    "만약 같다면 패스, 다르다면 텔레그램으로 메시지를 보내는거죠!\n"
   ]
  },
  {
   "cell_type": "code",
   "execution_count": 30,
   "metadata": {},
   "outputs": [
    {
     "ename": "IndentationError",
     "evalue": "expected an indented block (<ipython-input-30-6cd3d73ed6aa>, line 24)",
     "output_type": "error",
     "traceback": [
      "\u001b[1;36m  File \u001b[1;32m\"<ipython-input-30-6cd3d73ed6aa>\"\u001b[1;36m, line \u001b[1;32m24\u001b[0m\n\u001b[1;33m    f_read.close()\u001b[0m\n\u001b[1;37m    ^\u001b[0m\n\u001b[1;31mIndentationError\u001b[0m\u001b[1;31m:\u001b[0m expected an indented block\n"
     ]
    }
   ],
   "source": [
    "# clien_market_parser.py\n",
    "\n",
    "import requests\n",
    "from bs4 import BeautifulSoup as bs\n",
    "import os\n",
    "\n",
    "# 파일의 위치\n",
    "BASE_DIR = os.path.dirname(os.path.abspath('./crawling/'))\n",
    "\n",
    "req = requests.get('https://www.clien.net/service/board/sold')\n",
    "req.encoding = 'utf-8' # Clien에서 encoding 정보를 보내주지 않아 encoding 옵션을 추가해줘야 합니다.\n",
    "\n",
    "html = req.text\n",
    "soup = bs(html, 'html.parser')\n",
    "posts = soup.select('#div_content > div.list_content')\n",
    "latest = posts[0].text\n",
    "\n",
    "\n",
    "with open(os.path.join(BASE_DIR, 'latest.txt'), 'r+', encoding='UTF-8') as f_read:\n",
    "    before = f_read.readline()\n",
    "    if before != latest:\n",
    "        # 같은 경우는 에러 없이 넘기고, 다른 경우에만\n",
    "        # 메시지 보내는 로직을 넣으면 됩니다.\n",
    "    f_read.close()\n",
    "    \n",
    "with open(os.path.join(BASE_DIR, 'latest.txt'), 'w+', encoding='UTF-8')  as f_write:\n",
    "    f_write.write(latest)\n",
    "    f_write.close()"
   ]
  },
  {
   "cell_type": "markdown",
   "metadata": {},
   "source": [
    "## 새글이라면? 텔레그램으로 메시지 보내기!\n",
    "\n",
    "이제 메시지를 보내볼게요. `telegram`을 import 하신 후 `bot`을 선언해주시면 됩니다. token은 위에서 받은 토큰입니다.\n",
    "\n"
   ]
  },
  {
   "cell_type": "code",
   "execution_count": 58,
   "metadata": {},
   "outputs": [],
   "source": [
    "# clien_market_parser.py\n",
    "\n",
    "import requests\n",
    "from bs4 import BeautifulSoup as bs\n",
    "import os\n",
    "\n",
    "import telegram\n",
    "\n",
    "# 토큰을 지정해서 bot을 선언해 줍시다! \n",
    "bot = telegram.Bot(token='1667990389:AAHYkzv6hGXTznSCGpM0TYRorc8qs2FeO-8')\n",
    "# 우선 테스트 봇이니까 가장 마지막으로 bot에게 말을 건 사람의 id를 지정해줄게요.\n",
    "# 만약 IndexError 에러가 난다면 봇에게 메시지를 아무거나 보내고 다시 테스틓보세요.\n",
    "# print(bot.getUpdates())\n",
    "chat_id = bot.getUpdates()[-1].message.chat.id\n",
    "\n",
    "\n",
    "# 파일의 위치\n",
    "BASE_DIR = os.path.dirname(os.path.abspath('./crawling/'))\n",
    "\n",
    "req = requests.get('https://www.clien.net/service/board/sold')\n",
    "req.encoding = 'utf-8'\n",
    "\n",
    "html = req.text\n",
    "soup = bs(html, 'html.parser')\n",
    "posts = soup.select('#div_content > div.list_content > div:nth-child(1) > div.list_title > a > span.subject_fixed')\n",
    "latest = posts[0].text.strip()\n",
    "\n",
    "with open(os.path.join(BASE_DIR, 'latest.txt'), 'r+', encoding='UTF-8') as f_read:\n",
    "    before = f_read.readline()\n",
    "    if before != latest:\n",
    "        bot.sendMessage(chat_id=chat_id, text= latest + ' 라는 글이 올라왔어요!')\n",
    "    else:\n",
    "        bot.sendMessage(chat_id=chat_id, text='새 글이 없어요!ㅠㅠ')\n",
    "    f_read.close()\n",
    "    \n",
    "with open(os.path.join(BASE_DIR, 'latest.txt'), 'w+', encoding='UTF-8') as f_write:\n",
    "    f_write.write(latest)\n",
    "    f_write.close()"
   ]
  },
  {
   "cell_type": "markdown",
   "metadata": {},
   "source": [
    "## 자동으로 크롤링하고 메시지 보내기\n",
    "\n",
    "### 가장 쉬운방법: `while` + `sleep`\n",
    "\n",
    "가장 쉬운 방법은 python의 `while` 문을 쓰는 방법입니다. 물론, 가장 나쁜 방법이에요. 안전하지도 않고 시스템의 메모리를 좀먹을 수도 있어요.\n",
    "\n",
    "하지만 테스트에서 가장 쉽게 쓸 수 있어요.\n",
    "\n"
   ]
  },
  {
   "cell_type": "code",
   "execution_count": null,
   "metadata": {},
   "outputs": [],
   "source": [
    "# clien_market_aprser.py\n",
    "\n",
    "import requests\n",
    "from bs4 import BeautifulSoup\n",
    "import os\n",
    "import time\n",
    "\n",
    "import telegram\n",
    "\n",
    "bot = telegram.Bot(token='1667990389:AAHYkzv6hGXTznSCGpM0TYRorc8qs2FeO-8')\n",
    "chat_id = bot.getUpdates()[-1].message.chat.id\n",
    "\n",
    "# 파일의 위치\n",
    "BASE_DIR = os.path.dirname(os.path.abspath('./crawling/'))\n",
    "\n",
    "while True:\n",
    "    req = requests.get('https://www.clien.net/service/board/sold')\n",
    "    req.encoding = 'utf-8'\n",
    "    \n",
    "    html = req.text\n",
    "    soup = bs(html, 'html.parser')\n",
    "    posts = soup.select('#div_content > div.list_content > div:nth-child(1) > div.list_title > a > span.subject_fixed')\n",
    "    latest = posts[0].text.strip()\n",
    "    \n",
    "    \n",
    "    with open(os.path.join(BASE_DIR, 'latest.txt'), 'r+', encoding='UTF-8') as f_read:\n",
    "        before = f_read.readline()\n",
    "        if before != latest:\n",
    "            bot.sendMessage(chat_id=chat_id, text= latest + ' 라는 새 글이 올라왔어요!')\n",
    "        else:\n",
    "            bot.sendMessage(chat_id=chat_id, text='새 글이 없어요 ㅠㅠㅠ')\n",
    "        f_read.close()\n",
    "        \n",
    "    with open(os.path.join(BASE_DIR, 'latest.txt'), 'w+', encoding='UTF-8') as f_write:\n",
    "        f_write.write(latest)\n",
    "        f_write.close()\n",
    "        "
   ]
  },
  {
   "cell_type": "markdown",
   "metadata": {},
   "source": [
    "## 스케쥴러"
   ]
  },
  {
   "cell_type": "code",
   "execution_count": 2,
   "metadata": {},
   "outputs": [
    {
     "name": "stdout",
     "output_type": "stream",
     "text": [
      "Requirement already satisfied: APScheduler in c:\\users\\chorlock\\anaconda3\\lib\\site-packages (3.6.3)\n",
      "Requirement already satisfied: six>=1.4.0 in c:\\users\\chorlock\\anaconda3\\lib\\site-packages (from APScheduler) (1.15.0)\n",
      "Requirement already satisfied: pytz in c:\\users\\chorlock\\anaconda3\\lib\\site-packages (from APScheduler) (2020.1)\n",
      "Requirement already satisfied: tzlocal>=1.2 in c:\\users\\chorlock\\anaconda3\\lib\\site-packages (from APScheduler) (2.1)\n",
      "Requirement already satisfied: setuptools>=0.7 in c:\\users\\chorlock\\anaconda3\\lib\\site-packages (from APScheduler) (50.3.1.post20201107)\n"
     ]
    }
   ],
   "source": [
    "!pip install APScheduler"
   ]
  },
  {
   "cell_type": "code",
   "execution_count": 4,
   "metadata": {},
   "outputs": [
    {
     "name": "stdout",
     "output_type": "stream",
     "text": [
      "sched before~\n",
      "job1 : 19:38:38\n",
      "job1 : 19:38:43\n",
      "job1 : 19:38:48\n",
      "job1 : 19:38:53\n",
      "job1 : 19:38:58\n",
      "job2 : 19:39:00\n",
      "job1 : 19:39:03\n",
      "job1 : 19:39:08\n",
      "job1 : 19:39:13\n"
     ]
    },
    {
     "ename": "KeyboardInterrupt",
     "evalue": "",
     "output_type": "error",
     "traceback": [
      "\u001b[1;31m---------------------------------------------------------------------------\u001b[0m",
      "\u001b[1;31mKeyboardInterrupt\u001b[0m                         Traceback (most recent call last)",
      "\u001b[1;32m<ipython-input-4-895db75cd3f2>\u001b[0m in \u001b[0;36m<module>\u001b[1;34m\u001b[0m\n\u001b[0;32m     18\u001b[0m \u001b[1;33m\u001b[0m\u001b[0m\n\u001b[0;32m     19\u001b[0m \u001b[0mprint\u001b[0m\u001b[1;33m(\u001b[0m\u001b[1;34m'sched before~'\u001b[0m\u001b[1;33m)\u001b[0m\u001b[1;33m\u001b[0m\u001b[1;33m\u001b[0m\u001b[0m\n\u001b[1;32m---> 20\u001b[1;33m \u001b[0msched\u001b[0m\u001b[1;33m.\u001b[0m\u001b[0mstart\u001b[0m\u001b[1;33m(\u001b[0m\u001b[1;33m)\u001b[0m\u001b[1;33m\u001b[0m\u001b[1;33m\u001b[0m\u001b[0m\n\u001b[0m\u001b[0;32m     21\u001b[0m \u001b[0mprint\u001b[0m\u001b[1;33m(\u001b[0m\u001b[1;34m'sched after~'\u001b[0m\u001b[1;33m)\u001b[0m\u001b[1;33m\u001b[0m\u001b[1;33m\u001b[0m\u001b[0m\n",
      "\u001b[1;32m~\\anaconda3\\lib\\site-packages\\apscheduler\\schedulers\\blocking.py\u001b[0m in \u001b[0;36mstart\u001b[1;34m(self, *args, **kwargs)\u001b[0m\n\u001b[0;32m     17\u001b[0m         \u001b[0mself\u001b[0m\u001b[1;33m.\u001b[0m\u001b[0m_event\u001b[0m \u001b[1;33m=\u001b[0m \u001b[0mEvent\u001b[0m\u001b[1;33m(\u001b[0m\u001b[1;33m)\u001b[0m\u001b[1;33m\u001b[0m\u001b[1;33m\u001b[0m\u001b[0m\n\u001b[0;32m     18\u001b[0m         \u001b[0msuper\u001b[0m\u001b[1;33m(\u001b[0m\u001b[0mBlockingScheduler\u001b[0m\u001b[1;33m,\u001b[0m \u001b[0mself\u001b[0m\u001b[1;33m)\u001b[0m\u001b[1;33m.\u001b[0m\u001b[0mstart\u001b[0m\u001b[1;33m(\u001b[0m\u001b[1;33m*\u001b[0m\u001b[0margs\u001b[0m\u001b[1;33m,\u001b[0m \u001b[1;33m**\u001b[0m\u001b[0mkwargs\u001b[0m\u001b[1;33m)\u001b[0m\u001b[1;33m\u001b[0m\u001b[1;33m\u001b[0m\u001b[0m\n\u001b[1;32m---> 19\u001b[1;33m         \u001b[0mself\u001b[0m\u001b[1;33m.\u001b[0m\u001b[0m_main_loop\u001b[0m\u001b[1;33m(\u001b[0m\u001b[1;33m)\u001b[0m\u001b[1;33m\u001b[0m\u001b[1;33m\u001b[0m\u001b[0m\n\u001b[0m\u001b[0;32m     20\u001b[0m \u001b[1;33m\u001b[0m\u001b[0m\n\u001b[0;32m     21\u001b[0m     \u001b[1;32mdef\u001b[0m \u001b[0mshutdown\u001b[0m\u001b[1;33m(\u001b[0m\u001b[0mself\u001b[0m\u001b[1;33m,\u001b[0m \u001b[0mwait\u001b[0m\u001b[1;33m=\u001b[0m\u001b[1;32mTrue\u001b[0m\u001b[1;33m)\u001b[0m\u001b[1;33m:\u001b[0m\u001b[1;33m\u001b[0m\u001b[1;33m\u001b[0m\u001b[0m\n",
      "\u001b[1;32m~\\anaconda3\\lib\\site-packages\\apscheduler\\schedulers\\blocking.py\u001b[0m in \u001b[0;36m_main_loop\u001b[1;34m(self)\u001b[0m\n\u001b[0;32m     26\u001b[0m         \u001b[0mwait_seconds\u001b[0m \u001b[1;33m=\u001b[0m \u001b[0mTIMEOUT_MAX\u001b[0m\u001b[1;33m\u001b[0m\u001b[1;33m\u001b[0m\u001b[0m\n\u001b[0;32m     27\u001b[0m         \u001b[1;32mwhile\u001b[0m \u001b[0mself\u001b[0m\u001b[1;33m.\u001b[0m\u001b[0mstate\u001b[0m \u001b[1;33m!=\u001b[0m \u001b[0mSTATE_STOPPED\u001b[0m\u001b[1;33m:\u001b[0m\u001b[1;33m\u001b[0m\u001b[1;33m\u001b[0m\u001b[0m\n\u001b[1;32m---> 28\u001b[1;33m             \u001b[0mself\u001b[0m\u001b[1;33m.\u001b[0m\u001b[0m_event\u001b[0m\u001b[1;33m.\u001b[0m\u001b[0mwait\u001b[0m\u001b[1;33m(\u001b[0m\u001b[0mwait_seconds\u001b[0m\u001b[1;33m)\u001b[0m\u001b[1;33m\u001b[0m\u001b[1;33m\u001b[0m\u001b[0m\n\u001b[0m\u001b[0;32m     29\u001b[0m             \u001b[0mself\u001b[0m\u001b[1;33m.\u001b[0m\u001b[0m_event\u001b[0m\u001b[1;33m.\u001b[0m\u001b[0mclear\u001b[0m\u001b[1;33m(\u001b[0m\u001b[1;33m)\u001b[0m\u001b[1;33m\u001b[0m\u001b[1;33m\u001b[0m\u001b[0m\n\u001b[0;32m     30\u001b[0m             \u001b[0mwait_seconds\u001b[0m \u001b[1;33m=\u001b[0m \u001b[0mself\u001b[0m\u001b[1;33m.\u001b[0m\u001b[0m_process_jobs\u001b[0m\u001b[1;33m(\u001b[0m\u001b[1;33m)\u001b[0m\u001b[1;33m\u001b[0m\u001b[1;33m\u001b[0m\u001b[0m\n",
      "\u001b[1;32m~\\anaconda3\\lib\\threading.py\u001b[0m in \u001b[0;36mwait\u001b[1;34m(self, timeout)\u001b[0m\n\u001b[0;32m    556\u001b[0m             \u001b[0msignaled\u001b[0m \u001b[1;33m=\u001b[0m \u001b[0mself\u001b[0m\u001b[1;33m.\u001b[0m\u001b[0m_flag\u001b[0m\u001b[1;33m\u001b[0m\u001b[1;33m\u001b[0m\u001b[0m\n\u001b[0;32m    557\u001b[0m             \u001b[1;32mif\u001b[0m \u001b[1;32mnot\u001b[0m \u001b[0msignaled\u001b[0m\u001b[1;33m:\u001b[0m\u001b[1;33m\u001b[0m\u001b[1;33m\u001b[0m\u001b[0m\n\u001b[1;32m--> 558\u001b[1;33m                 \u001b[0msignaled\u001b[0m \u001b[1;33m=\u001b[0m \u001b[0mself\u001b[0m\u001b[1;33m.\u001b[0m\u001b[0m_cond\u001b[0m\u001b[1;33m.\u001b[0m\u001b[0mwait\u001b[0m\u001b[1;33m(\u001b[0m\u001b[0mtimeout\u001b[0m\u001b[1;33m)\u001b[0m\u001b[1;33m\u001b[0m\u001b[1;33m\u001b[0m\u001b[0m\n\u001b[0m\u001b[0;32m    559\u001b[0m             \u001b[1;32mreturn\u001b[0m \u001b[0msignaled\u001b[0m\u001b[1;33m\u001b[0m\u001b[1;33m\u001b[0m\u001b[0m\n\u001b[0;32m    560\u001b[0m \u001b[1;33m\u001b[0m\u001b[0m\n",
      "\u001b[1;32m~\\anaconda3\\lib\\threading.py\u001b[0m in \u001b[0;36mwait\u001b[1;34m(self, timeout)\u001b[0m\n\u001b[0;32m    304\u001b[0m             \u001b[1;32melse\u001b[0m\u001b[1;33m:\u001b[0m\u001b[1;33m\u001b[0m\u001b[1;33m\u001b[0m\u001b[0m\n\u001b[0;32m    305\u001b[0m                 \u001b[1;32mif\u001b[0m \u001b[0mtimeout\u001b[0m \u001b[1;33m>\u001b[0m \u001b[1;36m0\u001b[0m\u001b[1;33m:\u001b[0m\u001b[1;33m\u001b[0m\u001b[1;33m\u001b[0m\u001b[0m\n\u001b[1;32m--> 306\u001b[1;33m                     \u001b[0mgotit\u001b[0m \u001b[1;33m=\u001b[0m \u001b[0mwaiter\u001b[0m\u001b[1;33m.\u001b[0m\u001b[0macquire\u001b[0m\u001b[1;33m(\u001b[0m\u001b[1;32mTrue\u001b[0m\u001b[1;33m,\u001b[0m \u001b[0mtimeout\u001b[0m\u001b[1;33m)\u001b[0m\u001b[1;33m\u001b[0m\u001b[1;33m\u001b[0m\u001b[0m\n\u001b[0m\u001b[0;32m    307\u001b[0m                 \u001b[1;32melse\u001b[0m\u001b[1;33m:\u001b[0m\u001b[1;33m\u001b[0m\u001b[1;33m\u001b[0m\u001b[0m\n\u001b[0;32m    308\u001b[0m                     \u001b[0mgotit\u001b[0m \u001b[1;33m=\u001b[0m \u001b[0mwaiter\u001b[0m\u001b[1;33m.\u001b[0m\u001b[0macquire\u001b[0m\u001b[1;33m(\u001b[0m\u001b[1;32mFalse\u001b[0m\u001b[1;33m)\u001b[0m\u001b[1;33m\u001b[0m\u001b[1;33m\u001b[0m\u001b[0m\n",
      "\u001b[1;31mKeyboardInterrupt\u001b[0m: "
     ]
    }
   ],
   "source": [
    "import time\n",
    "from apscheduler.schedulers.blocking import BlockingScheduler\n",
    "\n",
    "sched = BlockingScheduler()\n",
    "\n",
    "# 매일 12시 30분에 실행\n",
    "@sched.scheduled_job('interval', seconds=5, id='test_1')\n",
    "def job1():\n",
    "    print(f'job1 : {time.strftime(\"%H:%M:%S\")}')\n",
    "    \n",
    "# 매일 12시 30분에 실행\n",
    "@sched.scheduled_job('cron', hour='12', minute='30', id='test_2')\n",
    "def job2():\n",
    "    print(f'job2 : {time.strftime(\"%H:%M:%S\")}')\n",
    "    \n",
    "# 이런식으로 추가도 가능. 매분에 실행\n",
    "sched.add_job(job2, 'cron', second='0', id=\"test_3\")\n",
    "\n",
    "print('sched before~')\n",
    "sched.start()\n",
    "print('sched after~')"
   ]
  },
  {
   "cell_type": "code",
   "execution_count": null,
   "metadata": {},
   "outputs": [],
   "source": []
  }
 ],
 "metadata": {
  "kernelspec": {
   "display_name": "Python 3",
   "language": "python",
   "name": "python3"
  },
  "language_info": {
   "codemirror_mode": {
    "name": "ipython",
    "version": 3
   },
   "file_extension": ".py",
   "mimetype": "text/x-python",
   "name": "python",
   "nbconvert_exporter": "python",
   "pygments_lexer": "ipython3",
   "version": "3.8.5"
  }
 },
 "nbformat": 4,
 "nbformat_minor": 4
}
